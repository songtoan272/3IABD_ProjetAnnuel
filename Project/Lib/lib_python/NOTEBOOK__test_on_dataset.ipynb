{
 "cells": [
  {
   "cell_type": "code",
   "execution_count": 2,
   "metadata": {
    "colab": {},
    "colab_type": "code",
    "id": "-QiOKXjddps9"
   },
   "outputs": [],
   "source": [
    "# from PIL import Image\n",
    "# import matplotlib.pyplot as plt\n",
    "# import os\n",
    "import numpy as np\n",
    "import tensorflow as tf\n",
    "from tensorflow.keras.preprocessing.image import ImageDataGenerator\n",
    "import tensorflow.keras as keras\n",
    "from sklearn.metrics import confusion_matrix"
   ]
  },
  {
   "cell_type": "code",
   "execution_count": 3,
   "metadata": {
    "colab": {},
    "colab_type": "code",
    "id": "pZfC52mMqhRv"
   },
   "outputs": [],
   "source": [
    "batch_size = 1\n",
    "epochs = 100\n",
    "IMG_HEIGHT = 16\n",
    "IMG_WIDTH = 16\n",
    "IMG_CHANNELS = 3\n",
    "color_mode = 'rgb'\n",
    "CLASS_NAMES=np.array(['makise', 'cc', 'rem'])"
   ]
  },
  {
   "cell_type": "code",
   "execution_count": 4,
   "metadata": {
    "colab": {},
    "colab_type": "code",
    "id": "BwiTpexcdptv"
   },
   "outputs": [],
   "source": [
    "train_dir = f\"../../Dataset/{IMG_HEIGHT}x{IMG_WIDTH}/classic/train\"\n",
    "test_dir = f\"../../Dataset/{IMG_HEIGHT}x{IMG_WIDTH}/classic/test\""
   ]
  },
  {
   "cell_type": "code",
   "execution_count": 5,
   "metadata": {
    "colab": {},
    "colab_type": "code",
    "id": "M6s7Khbvp4JG"
   },
   "outputs": [],
   "source": [
    "# Generator for our training data\n",
    "train_image_generator = ImageDataGenerator(rotation_range=30, \n",
    "                                           width_shift_range=0.3, \n",
    "                                           height_shift_range=0.3, \n",
    "                                           brightness_range=(0.5, 1.5), \n",
    "                                           zoom_range=0.3, \n",
    "                                           horizontal_flip=True, \n",
    "                                           rescale=1./255)\n",
    "# Generator for our validation data\n",
    "validation_image_generator = ImageDataGenerator(rotation_range=30, \n",
    "                                           width_shift_range=0.3, \n",
    "                                           height_shift_range=0.3, \n",
    "                                           brightness_range=(0.5, 1.5), \n",
    "                                           zoom_range=0.3, \n",
    "                                           horizontal_flip=True, \n",
    "                                           rescale=1./255) "
   ]
  },
  {
   "cell_type": "code",
   "execution_count": 6,
   "metadata": {
    "colab": {
     "base_uri": "https://localhost:8080/",
     "height": 34
    },
    "colab_type": "code",
    "id": "Em6kKOu1dpt6",
    "outputId": "52c0fa7f-ceaa-4dad-c541-150ead848769"
   },
   "outputs": [
    {
     "name": "stdout",
     "output_type": "stream",
     "text": [
      "Found 1043 images belonging to 3 classes.\n"
     ]
    }
   ],
   "source": [
    "train_data_gen = train_image_generator.flow_from_directory(batch_size=batch_size,\n",
    "                                                           directory=train_dir,\n",
    "                                                           shuffle=True,\n",
    "                                                           color_mode=color_mode,\n",
    "                                                           target_size=(IMG_HEIGHT, IMG_WIDTH),\n",
    "                                                           classes=list(CLASS_NAMES),\n",
    "                                                           class_mode='categorical')"
   ]
  },
  {
   "cell_type": "code",
   "execution_count": 7,
   "metadata": {
    "colab": {
     "base_uri": "https://localhost:8080/",
     "height": 34
    },
    "colab_type": "code",
    "id": "K5XkEfnuer2m",
    "outputId": "b56fe21f-00e2-43b3-d342-e839b79c87fe"
   },
   "outputs": [
    {
     "name": "stdout",
     "output_type": "stream",
     "text": [
      "Found 180 images belonging to 3 classes.\n"
     ]
    }
   ],
   "source": [
    "validation_data_gen = validation_image_generator.flow_from_directory(batch_size=batch_size,\n",
    "                                                           directory=test_dir,\n",
    "                                                           shuffle=True,\n",
    "                                                           color_mode=color_mode,\n",
    "                                                           target_size=(IMG_HEIGHT, IMG_WIDTH),\n",
    "                                                           classes=list(CLASS_NAMES),\n",
    "                                                           class_mode='categorical')"
   ]
  },
  {
   "cell_type": "code",
   "execution_count": null,
   "metadata": {
    "colab": {},
    "colab_type": "code",
    "id": "g4Bbx5UjdpuZ"
   },
   "outputs": [],
   "source": [
    "model = keras.Sequential([\n",
    "    keras.layers.Flatten(input_shape=(IMG_HEIGHT,IMG_WIDTH,IMG_CHANNELS)),\n",
    "    keras.layers.Dense(1000, activation='tanh'),\n",
    "    keras.layers.Dense(100, activation='tanh'),\n",
    "    keras.layers.Dense(3, activation='softmax')\n",
    "])"
   ]
  },
  {
   "cell_type": "code",
   "execution_count": null,
   "metadata": {
    "colab": {},
    "colab_type": "code",
    "id": "CIfZX7ZT_Pwa"
   },
   "outputs": [],
   "source": [
    "model.compile(optimizer=tf.keras.optimizers.SGD(learning_rate=0.001),\n",
    "              loss=tf.keras.losses.mse,\n",
    "              metrics=['categorical_accuracy'])"
   ]
  },
  {
   "cell_type": "code",
   "execution_count": null,
   "metadata": {
    "colab": {},
    "colab_type": "code",
    "id": "-wMRYNPSHZYV"
   },
   "outputs": [],
   "source": [
    "log_dir = f\"Tests/Keras/{IMG_HEIGHT}x{IMG_WIDTH}-tanh-{IMG_WIDTH*IMG_HEIGHT*IMG_CHANNELS}-1000-100-001-sgd-mse\"\n",
    "tb_callback = tf.keras.callbacks.TensorBoard(log_dir=log_dir)"
   ]
  },
  {
   "cell_type": "code",
   "execution_count": null,
   "metadata": {
    "colab": {
     "base_uri": "https://localhost:8080/",
     "height": 34
    },
    "colab_type": "code",
    "id": "Y0z8wwgy7AiM",
    "outputId": "0c66023e-79e6-4870-ee34-7b9d72ecd6a7"
   },
   "outputs": [
    {
     "data": {
      "text/plain": [
       "'Tests/Keras/64x64-tanh-12288-1000-100-001-sgd-mse'"
      ]
     },
     "execution_count": 10,
     "metadata": {
      "tags": []
     },
     "output_type": "execute_result"
    }
   ],
   "source": [
    "log_dir"
   ]
  },
  {
   "cell_type": "code",
   "execution_count": null,
   "metadata": {
    "colab": {
     "base_uri": "https://localhost:8080/",
     "height": 295
    },
    "colab_type": "code",
    "id": "I1NCYbEnDCDa",
    "outputId": "29b58d55-5631-476f-e8db-8bd77b78e650"
   },
   "outputs": [
    {
     "name": "stdout",
     "output_type": "stream",
     "text": [
      "Model: \"sequential\"\n",
      "_________________________________________________________________\n",
      "Layer (type)                 Output Shape              Param #   \n",
      "=================================================================\n",
      "flatten (Flatten)            (None, 12288)             0         \n",
      "_________________________________________________________________\n",
      "dense (Dense)                (None, 1000)              12289000  \n",
      "_________________________________________________________________\n",
      "dense_1 (Dense)              (None, 100)               100100    \n",
      "_________________________________________________________________\n",
      "dense_2 (Dense)              (None, 3)                 303       \n",
      "=================================================================\n",
      "Total params: 12,389,403\n",
      "Trainable params: 12,389,403\n",
      "Non-trainable params: 0\n",
      "_________________________________________________________________\n"
     ]
    }
   ],
   "source": [
    "model.summary()"
   ]
  },
  {
   "cell_type": "code",
   "execution_count": null,
   "metadata": {
    "colab": {
     "base_uri": "https://localhost:8080/",
     "height": 1000
    },
    "colab_type": "code",
    "id": "ohO9Zd47Dpap",
    "outputId": "659abd3f-bdc9-4778-ee16-70274a7e255f"
   },
   "outputs": [
    {
     "name": "stdout",
     "output_type": "stream",
     "text": [
      "Epoch 1/100\n",
      "1043/1043 [==============================] - 33s 32ms/step - loss: 0.2108 - categorical_accuracy: 0.4746 - val_loss: 0.1717 - val_categorical_accuracy: 0.6222\n",
      "Epoch 2/100\n",
      "1043/1043 [==============================] - 44s 42ms/step - loss: 0.1803 - categorical_accuracy: 0.5570 - val_loss: 0.1608 - val_categorical_accuracy: 0.6667\n",
      "Epoch 3/100\n",
      "1043/1043 [==============================] - 38s 36ms/step - loss: 0.1672 - categorical_accuracy: 0.6222 - val_loss: 0.1797 - val_categorical_accuracy: 0.5889\n",
      "Epoch 4/100\n",
      "1043/1043 [==============================] - 34s 33ms/step - loss: 0.1593 - categorical_accuracy: 0.6443 - val_loss: 0.1419 - val_categorical_accuracy: 0.7111\n",
      "Epoch 5/100\n",
      "1043/1043 [==============================] - 32s 31ms/step - loss: 0.1527 - categorical_accuracy: 0.6817 - val_loss: 0.1327 - val_categorical_accuracy: 0.7278\n",
      "Epoch 6/100\n",
      "1043/1043 [==============================] - 32s 30ms/step - loss: 0.1519 - categorical_accuracy: 0.6779 - val_loss: 0.1460 - val_categorical_accuracy: 0.6722\n",
      "Epoch 7/100\n",
      "1043/1043 [==============================] - 32s 31ms/step - loss: 0.1483 - categorical_accuracy: 0.6711 - val_loss: 0.1416 - val_categorical_accuracy: 0.7000\n",
      "Epoch 8/100\n",
      "1043/1043 [==============================] - 35s 33ms/step - loss: 0.1469 - categorical_accuracy: 0.6884 - val_loss: 0.1443 - val_categorical_accuracy: 0.6889\n",
      "Epoch 9/100\n",
      "1043/1043 [==============================] - 32s 31ms/step - loss: 0.1409 - categorical_accuracy: 0.6989 - val_loss: 0.1662 - val_categorical_accuracy: 0.6056\n",
      "Epoch 10/100\n",
      "1043/1043 [==============================] - 32s 31ms/step - loss: 0.1447 - categorical_accuracy: 0.6826 - val_loss: 0.1402 - val_categorical_accuracy: 0.7278\n",
      "Epoch 11/100\n",
      "1043/1043 [==============================] - 32s 31ms/step - loss: 0.1371 - categorical_accuracy: 0.7162 - val_loss: 0.1272 - val_categorical_accuracy: 0.7278\n",
      "Epoch 12/100\n",
      "1043/1043 [==============================] - 31s 30ms/step - loss: 0.1446 - categorical_accuracy: 0.6769 - val_loss: 0.1321 - val_categorical_accuracy: 0.7556\n",
      "Epoch 13/100\n",
      "1043/1043 [==============================] - 31s 30ms/step - loss: 0.1358 - categorical_accuracy: 0.7124 - val_loss: 0.1477 - val_categorical_accuracy: 0.6833\n",
      "Epoch 14/100\n",
      "1043/1043 [==============================] - 33s 31ms/step - loss: 0.1378 - categorical_accuracy: 0.7143 - val_loss: 0.1309 - val_categorical_accuracy: 0.7222\n",
      "Epoch 15/100\n",
      "1043/1043 [==============================] - 33s 31ms/step - loss: 0.1350 - categorical_accuracy: 0.7181 - val_loss: 0.1634 - val_categorical_accuracy: 0.6278\n",
      "Epoch 16/100\n",
      "1043/1043 [==============================] - 35s 33ms/step - loss: 0.1292 - categorical_accuracy: 0.7287 - val_loss: 0.1426 - val_categorical_accuracy: 0.7111\n",
      "Epoch 17/100\n",
      "1043/1043 [==============================] - 37s 35ms/step - loss: 0.1297 - categorical_accuracy: 0.7248 - val_loss: 0.1517 - val_categorical_accuracy: 0.6778\n",
      "Epoch 18/100\n",
      "1043/1043 [==============================] - 35s 33ms/step - loss: 0.1286 - categorical_accuracy: 0.7344 - val_loss: 0.1512 - val_categorical_accuracy: 0.6722\n",
      "Epoch 19/100\n",
      "1043/1043 [==============================] - 53s 51ms/step - loss: 0.1305 - categorical_accuracy: 0.7267 - val_loss: 0.1364 - val_categorical_accuracy: 0.7111\n",
      "Epoch 20/100\n",
      "1043/1043 [==============================] - 34s 33ms/step - loss: 0.1294 - categorical_accuracy: 0.7258 - val_loss: 0.1184 - val_categorical_accuracy: 0.7833\n",
      "Epoch 21/100\n",
      "1043/1043 [==============================] - 32s 31ms/step - loss: 0.1274 - categorical_accuracy: 0.7402 - val_loss: 0.1380 - val_categorical_accuracy: 0.7222\n",
      "Epoch 22/100\n",
      "1043/1043 [==============================] - 33s 32ms/step - loss: 0.1261 - categorical_accuracy: 0.7402 - val_loss: 0.1233 - val_categorical_accuracy: 0.7611\n",
      "Epoch 23/100\n",
      "1043/1043 [==============================] - 35s 33ms/step - loss: 0.1278 - categorical_accuracy: 0.7258 - val_loss: 0.1437 - val_categorical_accuracy: 0.7167\n",
      "Epoch 24/100\n",
      "1043/1043 [==============================] - 32s 31ms/step - loss: 0.1280 - categorical_accuracy: 0.7421 - val_loss: 0.1330 - val_categorical_accuracy: 0.7611\n",
      "Epoch 25/100\n",
      "1043/1043 [==============================] - 32s 31ms/step - loss: 0.1261 - categorical_accuracy: 0.7421 - val_loss: 0.1244 - val_categorical_accuracy: 0.7667\n",
      "Epoch 26/100\n",
      "1043/1043 [==============================] - 33s 31ms/step - loss: 0.1354 - categorical_accuracy: 0.7124 - val_loss: 0.1333 - val_categorical_accuracy: 0.7556\n",
      "Epoch 27/100\n",
      "1043/1043 [==============================] - 34s 32ms/step - loss: 0.1322 - categorical_accuracy: 0.7191 - val_loss: 0.1270 - val_categorical_accuracy: 0.7500\n",
      "Epoch 28/100\n",
      "1043/1043 [==============================] - 32s 31ms/step - loss: 0.1221 - categorical_accuracy: 0.7411 - val_loss: 0.1603 - val_categorical_accuracy: 0.6722\n",
      "Epoch 29/100\n",
      "1043/1043 [==============================] - 32s 31ms/step - loss: 0.1230 - categorical_accuracy: 0.7517 - val_loss: 0.1208 - val_categorical_accuracy: 0.7944\n",
      "Epoch 30/100\n",
      "1043/1043 [==============================] - 36s 35ms/step - loss: 0.1238 - categorical_accuracy: 0.7478 - val_loss: 0.1376 - val_categorical_accuracy: 0.7000\n",
      "Epoch 31/100\n",
      "1043/1043 [==============================] - 32s 31ms/step - loss: 0.1283 - categorical_accuracy: 0.7335 - val_loss: 0.1221 - val_categorical_accuracy: 0.7556\n",
      "Epoch 32/100\n",
      "1043/1043 [==============================] - 32s 31ms/step - loss: 0.1260 - categorical_accuracy: 0.7325 - val_loss: 0.1273 - val_categorical_accuracy: 0.7111\n",
      "Epoch 33/100\n",
      "1043/1043 [==============================] - 33s 32ms/step - loss: 0.1225 - categorical_accuracy: 0.7421 - val_loss: 0.1198 - val_categorical_accuracy: 0.7444\n",
      "Epoch 34/100\n",
      "1043/1043 [==============================] - 32s 31ms/step - loss: 0.1232 - categorical_accuracy: 0.7517 - val_loss: 0.1089 - val_categorical_accuracy: 0.7944\n",
      "Epoch 35/100\n",
      "1043/1043 [==============================] - 32s 30ms/step - loss: 0.1221 - categorical_accuracy: 0.7440 - val_loss: 0.1156 - val_categorical_accuracy: 0.7778\n",
      "Epoch 36/100\n",
      "1043/1043 [==============================] - 32s 30ms/step - loss: 0.1214 - categorical_accuracy: 0.7498 - val_loss: 0.1285 - val_categorical_accuracy: 0.7222\n",
      "Epoch 37/100\n",
      "1043/1043 [==============================] - 31s 30ms/step - loss: 0.1237 - categorical_accuracy: 0.7402 - val_loss: 0.1194 - val_categorical_accuracy: 0.7556\n",
      "Epoch 38/100\n",
      "1043/1043 [==============================] - 31s 30ms/step - loss: 0.1249 - categorical_accuracy: 0.7325 - val_loss: 0.1272 - val_categorical_accuracy: 0.7444\n",
      "Epoch 39/100\n",
      "1043/1043 [==============================] - 33s 31ms/step - loss: 0.1184 - categorical_accuracy: 0.7459 - val_loss: 0.1273 - val_categorical_accuracy: 0.7389\n",
      "Epoch 40/100\n",
      "1043/1043 [==============================] - 34s 33ms/step - loss: 0.1232 - categorical_accuracy: 0.7440 - val_loss: 0.1118 - val_categorical_accuracy: 0.7778\n",
      "Epoch 41/100\n",
      "1043/1043 [==============================] - 32s 31ms/step - loss: 0.1184 - categorical_accuracy: 0.7498 - val_loss: 0.1267 - val_categorical_accuracy: 0.7556\n",
      "Epoch 42/100\n",
      "1043/1043 [==============================] - 34s 32ms/step - loss: 0.1219 - categorical_accuracy: 0.7498 - val_loss: 0.1254 - val_categorical_accuracy: 0.7611\n",
      "Epoch 43/100\n",
      "1043/1043 [==============================] - 32s 31ms/step - loss: 0.1231 - categorical_accuracy: 0.7411 - val_loss: 0.1314 - val_categorical_accuracy: 0.7389\n",
      "Epoch 44/100\n",
      "1043/1043 [==============================] - 32s 30ms/step - loss: 0.1201 - categorical_accuracy: 0.7478 - val_loss: 0.1348 - val_categorical_accuracy: 0.6944\n",
      "Epoch 45/100\n",
      "1043/1043 [==============================] - 32s 31ms/step - loss: 0.1140 - categorical_accuracy: 0.7680 - val_loss: 0.1248 - val_categorical_accuracy: 0.7500\n",
      "Epoch 46/100\n",
      "1043/1043 [==============================] - 32s 31ms/step - loss: 0.1154 - categorical_accuracy: 0.7670 - val_loss: 0.1187 - val_categorical_accuracy: 0.7722\n",
      "Epoch 47/100\n",
      "1043/1043 [==============================] - 33s 31ms/step - loss: 0.1255 - categorical_accuracy: 0.7325 - val_loss: 0.1517 - val_categorical_accuracy: 0.6778\n",
      "Epoch 48/100\n",
      "1043/1043 [==============================] - 32s 30ms/step - loss: 0.1208 - categorical_accuracy: 0.7613 - val_loss: 0.1288 - val_categorical_accuracy: 0.7111\n",
      "Epoch 49/100\n",
      "1043/1043 [==============================] - 32s 30ms/step - loss: 0.1187 - categorical_accuracy: 0.7584 - val_loss: 0.1165 - val_categorical_accuracy: 0.7611\n",
      "Epoch 50/100\n",
      "1043/1043 [==============================] - 32s 30ms/step - loss: 0.1196 - categorical_accuracy: 0.7344 - val_loss: 0.1282 - val_categorical_accuracy: 0.7556\n",
      "Epoch 51/100\n",
      "1043/1043 [==============================] - 32s 30ms/step - loss: 0.1189 - categorical_accuracy: 0.7603 - val_loss: 0.1085 - val_categorical_accuracy: 0.7722\n",
      "Epoch 52/100\n",
      "1043/1043 [==============================] - 32s 31ms/step - loss: 0.1244 - categorical_accuracy: 0.7430 - val_loss: 0.1230 - val_categorical_accuracy: 0.7444\n",
      "Epoch 53/100\n",
      "1043/1043 [==============================] - 32s 31ms/step - loss: 0.1175 - categorical_accuracy: 0.7641 - val_loss: 0.1292 - val_categorical_accuracy: 0.7333\n",
      "Epoch 54/100\n",
      "1043/1043 [==============================] - 33s 32ms/step - loss: 0.1138 - categorical_accuracy: 0.7555 - val_loss: 0.1199 - val_categorical_accuracy: 0.7722\n",
      "Epoch 55/100\n",
      "1043/1043 [==============================] - 32s 31ms/step - loss: 0.1152 - categorical_accuracy: 0.7603 - val_loss: 0.1324 - val_categorical_accuracy: 0.7389\n",
      "Epoch 56/100\n",
      "1043/1043 [==============================] - 32s 31ms/step - loss: 0.1139 - categorical_accuracy: 0.7651 - val_loss: 0.1137 - val_categorical_accuracy: 0.7833\n",
      "Epoch 57/100\n",
      "1043/1043 [==============================] - 32s 31ms/step - loss: 0.1145 - categorical_accuracy: 0.7718 - val_loss: 0.1189 - val_categorical_accuracy: 0.7611\n",
      "Epoch 58/100\n",
      "1043/1043 [==============================] - 86s 83ms/step - loss: 0.1191 - categorical_accuracy: 0.7478 - val_loss: 0.1290 - val_categorical_accuracy: 0.7444\n",
      "Epoch 59/100\n",
      "   2/1043 [..............................] - ETA: 37s - loss: 0.0686 - categorical_accuracy: 1.0000WARNING:tensorflow:Method (on_train_batch_end) is slow compared to the batch update (0.117098). Check your callbacks.\n",
      "1043/1043 [==============================] - 41s 39ms/step - loss: 0.1155 - categorical_accuracy: 0.7632 - val_loss: 0.1281 - val_categorical_accuracy: 0.7444\n",
      "Epoch 60/100\n",
      "1043/1043 [==============================] - 32s 31ms/step - loss: 0.1154 - categorical_accuracy: 0.7584 - val_loss: 0.1143 - val_categorical_accuracy: 0.7944\n",
      "Epoch 61/100\n",
      "1043/1043 [==============================] - 34s 33ms/step - loss: 0.1128 - categorical_accuracy: 0.7756 - val_loss: 0.1344 - val_categorical_accuracy: 0.7056\n",
      "Epoch 62/100\n",
      "1043/1043 [==============================] - 33s 32ms/step - loss: 0.1141 - categorical_accuracy: 0.7651 - val_loss: 0.1091 - val_categorical_accuracy: 0.7833\n",
      "Epoch 63/100\n",
      "1043/1043 [==============================] - 32s 30ms/step - loss: 0.1187 - categorical_accuracy: 0.7507 - val_loss: 0.1427 - val_categorical_accuracy: 0.7056\n",
      "Epoch 64/100\n",
      "1043/1043 [==============================] - 32s 30ms/step - loss: 0.1143 - categorical_accuracy: 0.7689 - val_loss: 0.1226 - val_categorical_accuracy: 0.7611\n",
      "Epoch 65/100\n",
      "1043/1043 [==============================] - 33s 31ms/step - loss: 0.1146 - categorical_accuracy: 0.7737 - val_loss: 0.1345 - val_categorical_accuracy: 0.7556\n",
      "Epoch 66/100\n",
      "1043/1043 [==============================] - 34s 33ms/step - loss: 0.1137 - categorical_accuracy: 0.7747 - val_loss: 0.1093 - val_categorical_accuracy: 0.7667\n",
      "Epoch 67/100\n",
      "1043/1043 [==============================] - 32s 30ms/step - loss: 0.1177 - categorical_accuracy: 0.7593 - val_loss: 0.1150 - val_categorical_accuracy: 0.7722\n",
      "Epoch 68/100\n",
      "1043/1043 [==============================] - 32s 31ms/step - loss: 0.1131 - categorical_accuracy: 0.7632 - val_loss: 0.1139 - val_categorical_accuracy: 0.7778\n",
      "Epoch 69/100\n",
      "1043/1043 [==============================] - 34s 33ms/step - loss: 0.1136 - categorical_accuracy: 0.7709 - val_loss: 0.1311 - val_categorical_accuracy: 0.7333\n",
      "Epoch 70/100\n",
      "1043/1043 [==============================] - 35s 34ms/step - loss: 0.1137 - categorical_accuracy: 0.7680 - val_loss: 0.1285 - val_categorical_accuracy: 0.7056\n",
      "Epoch 71/100\n",
      "1043/1043 [==============================] - 32s 31ms/step - loss: 0.1129 - categorical_accuracy: 0.7718 - val_loss: 0.1537 - val_categorical_accuracy: 0.6556\n",
      "Epoch 72/100\n",
      "1043/1043 [==============================] - 32s 31ms/step - loss: 0.1115 - categorical_accuracy: 0.7651 - val_loss: 0.1257 - val_categorical_accuracy: 0.7444\n",
      "Epoch 73/100\n",
      "1043/1043 [==============================] - 32s 31ms/step - loss: 0.1118 - categorical_accuracy: 0.7680 - val_loss: 0.1299 - val_categorical_accuracy: 0.7167\n",
      "Epoch 74/100\n",
      "1043/1043 [==============================] - 33s 31ms/step - loss: 0.1176 - categorical_accuracy: 0.7680 - val_loss: 0.1158 - val_categorical_accuracy: 0.7611\n",
      "Epoch 75/100\n",
      "1043/1043 [==============================] - 33s 32ms/step - loss: 0.1167 - categorical_accuracy: 0.7584 - val_loss: 0.1103 - val_categorical_accuracy: 0.7778\n",
      "Epoch 76/100\n",
      "1043/1043 [==============================] - 32s 31ms/step - loss: 0.1150 - categorical_accuracy: 0.7526 - val_loss: 0.1276 - val_categorical_accuracy: 0.7556\n",
      "Epoch 77/100\n",
      "1043/1043 [==============================] - 34s 33ms/step - loss: 0.1141 - categorical_accuracy: 0.7689 - val_loss: 0.1237 - val_categorical_accuracy: 0.7556\n",
      "Epoch 78/100\n",
      "1043/1043 [==============================] - 34s 32ms/step - loss: 0.1140 - categorical_accuracy: 0.7718 - val_loss: 0.1404 - val_categorical_accuracy: 0.7167\n",
      "Epoch 79/100\n",
      "1043/1043 [==============================] - 33s 32ms/step - loss: 0.1216 - categorical_accuracy: 0.7478 - val_loss: 0.1205 - val_categorical_accuracy: 0.7667\n",
      "Epoch 80/100\n",
      "1043/1043 [==============================] - 32s 31ms/step - loss: 0.1145 - categorical_accuracy: 0.7689 - val_loss: 0.1134 - val_categorical_accuracy: 0.7722\n",
      "Epoch 81/100\n",
      "1043/1043 [==============================] - 33s 32ms/step - loss: 0.1107 - categorical_accuracy: 0.7785 - val_loss: 0.1224 - val_categorical_accuracy: 0.7556\n",
      "Epoch 82/100\n",
      "1043/1043 [==============================] - 32s 31ms/step - loss: 0.1123 - categorical_accuracy: 0.7699 - val_loss: 0.1250 - val_categorical_accuracy: 0.7333\n",
      "Epoch 83/100\n",
      "1043/1043 [==============================] - 32s 30ms/step - loss: 0.1121 - categorical_accuracy: 0.7680 - val_loss: 0.1304 - val_categorical_accuracy: 0.7056\n",
      "Epoch 84/100\n",
      "1043/1043 [==============================] - 32s 31ms/step - loss: 0.1095 - categorical_accuracy: 0.7891 - val_loss: 0.1185 - val_categorical_accuracy: 0.7667\n",
      "Epoch 85/100\n",
      "1043/1043 [==============================] - 32s 31ms/step - loss: 0.1107 - categorical_accuracy: 0.7718 - val_loss: 0.1237 - val_categorical_accuracy: 0.7333\n",
      "Epoch 86/100\n",
      "1043/1043 [==============================] - 32s 31ms/step - loss: 0.1087 - categorical_accuracy: 0.7776 - val_loss: 0.1194 - val_categorical_accuracy: 0.7611\n",
      "Epoch 87/100\n",
      "1043/1043 [==============================] - 34s 32ms/step - loss: 0.1100 - categorical_accuracy: 0.7661 - val_loss: 0.1420 - val_categorical_accuracy: 0.7000\n",
      "Epoch 88/100\n",
      "1043/1043 [==============================] - 36s 34ms/step - loss: 0.1078 - categorical_accuracy: 0.7843 - val_loss: 0.1231 - val_categorical_accuracy: 0.7278\n",
      "Epoch 89/100\n",
      "1043/1043 [==============================] - 36s 35ms/step - loss: 0.1128 - categorical_accuracy: 0.7641 - val_loss: 0.1224 - val_categorical_accuracy: 0.7556\n",
      "Epoch 90/100\n",
      "1043/1043 [==============================] - 34s 32ms/step - loss: 0.1107 - categorical_accuracy: 0.7814 - val_loss: 0.1114 - val_categorical_accuracy: 0.7944\n",
      "Epoch 91/100\n",
      "1043/1043 [==============================] - 34s 33ms/step - loss: 0.1158 - categorical_accuracy: 0.7728 - val_loss: 0.1337 - val_categorical_accuracy: 0.7278\n",
      "Epoch 92/100\n",
      "1043/1043 [==============================] - 32s 30ms/step - loss: 0.1152 - categorical_accuracy: 0.7709 - val_loss: 0.1477 - val_categorical_accuracy: 0.6833\n",
      "Epoch 93/100\n",
      "1043/1043 [==============================] - 34s 33ms/step - loss: 0.1109 - categorical_accuracy: 0.7661 - val_loss: 0.1232 - val_categorical_accuracy: 0.7778\n",
      "Epoch 94/100\n",
      "1043/1043 [==============================] - 37s 35ms/step - loss: 0.1150 - categorical_accuracy: 0.7603 - val_loss: 0.1406 - val_categorical_accuracy: 0.6833\n",
      "Epoch 95/100\n",
      "1043/1043 [==============================] - 35s 34ms/step - loss: 0.1124 - categorical_accuracy: 0.7766 - val_loss: 0.1256 - val_categorical_accuracy: 0.7444\n",
      "Epoch 96/100\n",
      "1043/1043 [==============================] - 33s 32ms/step - loss: 0.1136 - categorical_accuracy: 0.7680 - val_loss: 0.1179 - val_categorical_accuracy: 0.7611\n",
      "Epoch 97/100\n",
      "1043/1043 [==============================] - 34s 33ms/step - loss: 0.1134 - categorical_accuracy: 0.7584 - val_loss: 0.1236 - val_categorical_accuracy: 0.7611\n",
      "Epoch 98/100\n",
      "1043/1043 [==============================] - 94s 90ms/step - loss: 0.1084 - categorical_accuracy: 0.7872 - val_loss: 0.1269 - val_categorical_accuracy: 0.7111\n",
      "Epoch 99/100\n",
      "1043/1043 [==============================] - 36s 35ms/step - loss: 0.1071 - categorical_accuracy: 0.7785 - val_loss: 0.1186 - val_categorical_accuracy: 0.7611\n",
      "Epoch 100/100\n",
      "1043/1043 [==============================] - 36s 34ms/step - loss: 0.1132 - categorical_accuracy: 0.7574 - val_loss: 0.1159 - val_categorical_accuracy: 0.7722\n"
     ]
    }
   ],
   "source": [
    "history = model.fit(\n",
    "    train_data_gen,\n",
    "    epochs=epochs,\n",
    "    validation_data=validation_data_gen,\n",
    "    callbacks=[tb_callback]\n",
    ")"
   ]
  },
  {
   "cell_type": "code",
   "execution_count": null,
   "metadata": {
    "colab": {},
    "colab_type": "code",
    "id": "Cn13-7sBY5Ed"
   },
   "outputs": [],
   "source": [
    "keras_y_preds_train = model.predict(x_train)\n",
    "keras_y_preds_val = model.predict(x_val)"
   ]
  },
  {
   "cell_type": "code",
   "execution_count": null,
   "metadata": {
    "colab": {},
    "colab_type": "code",
    "id": "2FACcOpgjc9B"
   },
   "outputs": [],
   "source": [
    "keras_cfmat_train = confusion_matrix(y_train, keras_y_preds_train)\n",
    "keras_cfmat_val = confusion_matrix(y_val, keras_y_preds_val)"
   ]
  },
  {
   "cell_type": "code",
   "execution_count": 8,
   "metadata": {
    "colab": {},
    "colab_type": "code",
    "id": "FWPWAMkTPvBE"
   },
   "outputs": [],
   "source": [
    "from mlp_py import PyMLP"
   ]
  },
  {
   "cell_type": "code",
   "execution_count": 9,
   "metadata": {
    "colab": {},
    "colab_type": "code",
    "id": "i8HQyoUf3tWw"
   },
   "outputs": [],
   "source": [
    "def data_generator(train_data_gen, validation_data_gen, nb_img_train, nb_img_val):\n",
    "  x_train = []\n",
    "  y_train = []\n",
    "  x_val = []\n",
    "  y_val = []\n",
    "  for i in range(nb_img_train):\n",
    "    image_batch, label_batch = next(train_data_gen)\n",
    "    x_train.append(image_batch[0].flatten())\n",
    "    y_train.append(np.where(label_batch[0].flatten() == 1., 1., -1.))\n",
    "    \n",
    "    if i < nb_img_val:\n",
    "        image_batch, label_batch = next(validation_data_gen)\n",
    "        x_val.append(image_batch[0].flatten())\n",
    "        y_val.append(np.where(label_batch[0].flatten() == 1., 1., -1.))\n",
    "  x_train = np.array(x_train, copy=False)\n",
    "  y_train = np.array(y_train, copy=False)\n",
    "  x_val = np.array(x_val, copy=False)\n",
    "  y_val = np.array(y_val, copy=False)\n",
    "  return (x_train, y_train, x_val, y_val)"
   ]
  },
  {
   "cell_type": "code",
   "execution_count": 10,
   "metadata": {
    "colab": {
     "base_uri": "https://localhost:8080/",
     "height": 86
    },
    "colab_type": "code",
    "id": "5Mxslf2vYr2T",
    "outputId": "348e7d69-43c3-420e-8fc0-a3412d43b111"
   },
   "outputs": [
    {
     "name": "stdout",
     "output_type": "stream",
     "text": [
      "x_train:  (3000, 768)\n",
      "y_train:  (3000, 3)\n",
      "x_val:  (600, 768)\n",
      "y_val:  (600, 3)\n"
     ]
    }
   ],
   "source": [
    "x_train, y_train, x_val, y_val = data_generator(train_data_gen, validation_data_gen, 3000, 600)\n",
    "\n",
    "print(\"x_train: \", x_train.shape)\n",
    "print(\"y_train: \", y_train.shape)\n",
    "print(\"x_val: \", x_val.shape)\n",
    "print(\"y_val: \", y_val.shape)"
   ]
  },
  {
   "cell_type": "code",
   "execution_count": 11,
   "metadata": {
    "colab": {},
    "colab_type": "code",
    "id": "eA7drvnhP2yA"
   },
   "outputs": [],
   "source": [
    "layer_sizes = [x_train.shape[0], 256, 48, y_train.shape[0]]\n",
    "lr = 0.001\n",
    "mlp = PyMLP(layer_sizes, lr, True)"
   ]
  },
  {
   "cell_type": "code",
   "execution_count": 12,
   "metadata": {
    "colab": {},
    "colab_type": "code",
    "id": "vnKSdobnQUif"
   },
   "outputs": [],
   "source": [
    "def train_model(model, xtrain, ytrain, xval, yval, epochs):\n",
    "  metrics = []\n",
    "  for i in range(epochs):\n",
    "    metric = model.fit_epoch(xtrain, ytrain, xval, yval)\n",
    "    metrics.append(metric.tolist())\n",
    "  return np.array(metrics).astype('float64', copy=False)"
   ]
  },
  {
   "cell_type": "code",
   "execution_count": null,
   "metadata": {
    "colab": {},
    "colab_type": "code",
    "id": "tXEu_yeX2IT6"
   },
   "outputs": [],
   "source": [
    "metrics = train_model(mlp, x_train, y_train, x_val, y_val, epochs)"
   ]
  },
  {
   "cell_type": "code",
   "execution_count": null,
   "metadata": {
    "colab": {},
    "colab_type": "code",
    "id": "MYkK8TtuRf0e"
   },
   "outputs": [],
   "source": [
    "rust_y_preds_train = mlp.predict(x_train, converted=True)\n",
    "rust_y_preds_val = mlp.predict(x_val, converted=True)"
   ]
  },
  {
   "cell_type": "code",
   "execution_count": null,
   "metadata": {
    "colab": {},
    "colab_type": "code",
    "id": "QoY_-dlaQooC"
   },
   "outputs": [],
   "source": [
    "train_loss = metrics[:, 0]\n",
    "train_acc = metrics[:, 1]\n",
    "val_loss = metrics[:, 0]\n",
    "val_acc = metrics[:, 1]"
   ]
  },
  {
   "cell_type": "code",
   "execution_count": null,
   "metadata": {
    "colab": {},
    "colab_type": "code",
    "id": "B10UzeJvRbmW"
   },
   "outputs": [],
   "source": [
    "rust_cfmat_train = mlp.confusion_matrix(y_train, y_pred_train)\n",
    "rust_cfmat_val = mlp.confusion_matrix(y_val, y_pred_val)"
   ]
  },
  {
   "cell_type": "code",
   "execution_count": null,
   "metadata": {
    "colab": {},
    "colab_type": "code",
    "id": "IU5KiZA5RSXP"
   },
   "outputs": [],
   "source": [
    "weights = mlp.get_weight()\n",
    "bias = mlp.get_bias()"
   ]
  }
 ],
 "metadata": {
  "colab": {
   "collapsed_sections": [],
   "name": "MLP_Keras.ipynb",
   "provenance": []
  },
  "kernelspec": {
   "display_name": "Python 3",
   "language": "python",
   "name": "python3"
  },
  "language_info": {
   "codemirror_mode": {
    "name": "ipython",
    "version": 3
   },
   "file_extension": ".py",
   "mimetype": "text/x-python",
   "name": "python",
   "nbconvert_exporter": "python",
   "pygments_lexer": "ipython3",
   "version": "3.7.7"
  }
 },
 "nbformat": 4,
 "nbformat_minor": 1
}
